{
 "cells": [
  {
   "cell_type": "code",
   "execution_count": 2,
   "metadata": {},
   "outputs": [],
   "source": [
    "import pandas as pd\n",
    "from googletrans import Translator\n",
    "\n",
    "# cargar el archivo con el dataframe y seleccionar la columna de tweets\n",
    "df = pd.read_csv('tweetsday2.csv')\n",
    "tweets = df['Tweet']\n",
    "\n",
    "# crear una instancia del traductor y definir idiomas origen y destino\n",
    "translator = Translator(service_urls=['translate.google.com'])\n",
    "dest_lang = 'en'\n",
    "\n",
    "# función para traducir un tweet\n",
    "def translate_tweet(tweet):\n",
    "    try:\n",
    "        return translator.translate(tweet, dest=dest_lang).text\n",
    "    except:\n",
    "        return Exception\n",
    "\n",
    "# aplicar la función a cada tweet en la columna y reemplazar el texto original\n",
    "df['Tweet'] = tweets.apply(translate_tweet)\n",
    "\n",
    "# guardar el dataframe con los tweets traducidos en inglés en un nuevo archivo\n",
    "df.to_csv('transday2.csv', index=False)"
   ]
  }
 ],
 "metadata": {
  "kernelspec": {
   "display_name": "Python 3",
   "language": "python",
   "name": "python3"
  },
  "language_info": {
   "codemirror_mode": {
    "name": "ipython",
    "version": 3
   },
   "file_extension": ".py",
   "mimetype": "text/x-python",
   "name": "python",
   "nbconvert_exporter": "python",
   "pygments_lexer": "ipython3",
   "version": "3.11.2"
  },
  "orig_nbformat": 4
 },
 "nbformat": 4,
 "nbformat_minor": 2
}
