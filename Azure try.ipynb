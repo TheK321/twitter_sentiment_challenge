{
 "cells": [
  {
   "cell_type": "code",
   "execution_count": 10,
   "metadata": {},
   "outputs": [
    {
     "ename": "KeyError",
     "evalue": "0",
     "output_type": "error",
     "traceback": [
      "\u001b[1;31m---------------------------------------------------------------------------\u001b[0m",
      "\u001b[1;31mKeyError\u001b[0m                                  Traceback (most recent call last)",
      "Cell \u001b[1;32mIn[10], line 36\u001b[0m\n\u001b[0;32m     34\u001b[0m     request \u001b[39m=\u001b[39m requests\u001b[39m.\u001b[39mpost(constructed_url, params\u001b[39m=\u001b[39mparams, headers\u001b[39m=\u001b[39mheaders, json\u001b[39m=\u001b[39mbody)\n\u001b[0;32m     35\u001b[0m     response \u001b[39m=\u001b[39m request\u001b[39m.\u001b[39mjson()\n\u001b[1;32m---> 36\u001b[0m     translated_text \u001b[39m=\u001b[39m response[\u001b[39m0\u001b[39;49m][\u001b[39m'\u001b[39m\u001b[39mtranslations\u001b[39m\u001b[39m'\u001b[39m][\u001b[39m0\u001b[39m][\u001b[39m'\u001b[39m\u001b[39mtext\u001b[39m\u001b[39m'\u001b[39m]\n\u001b[0;32m     37\u001b[0m     df\u001b[39m.\u001b[39mat[i, \u001b[39m'\u001b[39m\u001b[39mTweet\u001b[39m\u001b[39m'\u001b[39m] \u001b[39m=\u001b[39m translated_text\n\u001b[0;32m     39\u001b[0m \u001b[39m# Save the translated DataFrame to a new file\u001b[39;00m\n",
      "\u001b[1;31mKeyError\u001b[0m: 0"
     ]
    }
   ],
   "source": [
    "import pandas as pd\n",
    "import requests, uuid, json\n",
    "\n",
    "# Add your key and endpoint\n",
    "key = \"529fb8d0c1aa45e99f7aae226634699c\"\n",
    "endpoint = \"https://api.cognitive.microsofttranslator.com\"\n",
    "\n",
    "# location, also known as region.\n",
    "# required if you're using a multi-service or regional (not global) resource. It can be found in the Azure portal on the Keys and Endpoint page.\n",
    "location = \"southcentralus\"\n",
    "\n",
    "path = '/translate'\n",
    "constructed_url = endpoint + path\n",
    "\n",
    "params = {\n",
    "    'api-version': '3.0',\n",
    "    'to': 'en'\n",
    "}\n",
    "\n",
    "headers = {\n",
    "    'Ocp-Apim-Subscription-Key': key,\n",
    "    # location required if you're using a multi-service or regional (not global) resource.\n",
    "    'Ocp-Apim-Subscription-Region': location,\n",
    "    'Content-type': 'application/json',\n",
    "    'X-ClientTraceId': str(uuid.uuid4())\n",
    "}\n",
    "\n",
    "# Load data into a DataFrame\n",
    "df = pd.read_csv(\"C:\\\\Users\\\\17mar\\\\Documents\\\\tweetsday1.csv\")\n",
    "\n",
    "# Translate and replace the text in the 'Tweet' column\n",
    "for i, tweet in enumerate(df['Tweet']):\n",
    "    body = [{'text': tweet}]\n",
    "    request = requests.post(constructed_url, params=params, headers=headers, json=body)\n",
    "    response = request.json()\n",
    "    translated_text = response[0]['translations'][0]['text']\n",
    "    df.at[i, 'Tweet'] = translated_text\n",
    "\n",
    "# Save the translated DataFrame to a new file\n",
    "df.to_csv('translated_data.csv', index=False)\n"
   ]
  },
  {
   "cell_type": "code",
   "execution_count": 14,
   "metadata": {},
   "outputs": [
    {
     "ename": "KeyError",
     "evalue": "0",
     "output_type": "error",
     "traceback": [
      "\u001b[1;31m---------------------------------------------------------------------------\u001b[0m",
      "\u001b[1;31mKeyError\u001b[0m                                  Traceback (most recent call last)",
      "Cell \u001b[1;32mIn[14], line 6\u001b[0m\n\u001b[0;32m      4\u001b[0m request \u001b[39m=\u001b[39m requests\u001b[39m.\u001b[39mpost(constructed_url, params\u001b[39m=\u001b[39mparams, headers\u001b[39m=\u001b[39mheaders, json\u001b[39m=\u001b[39mbody)\n\u001b[0;32m      5\u001b[0m response \u001b[39m=\u001b[39m request\u001b[39m.\u001b[39mjson()\n\u001b[1;32m----> 6\u001b[0m translated_text \u001b[39m=\u001b[39m response[\u001b[39m0\u001b[39;49m][\u001b[39m'\u001b[39m\u001b[39mtranslations\u001b[39m\u001b[39m'\u001b[39m][\u001b[39m0\u001b[39m][\u001b[39m'\u001b[39m\u001b[39mtext\u001b[39m\u001b[39m'\u001b[39m]\n\u001b[0;32m      7\u001b[0m df\u001b[39m.\u001b[39mat[i, \u001b[39m'\u001b[39m\u001b[39mTweet\u001b[39m\u001b[39m'\u001b[39m] \u001b[39m=\u001b[39m translated_text\n",
      "\u001b[1;31mKeyError\u001b[0m: 0"
     ]
    }
   ],
   "source": [
    "\n",
    "# Translate and replace the text in the 'Tweet' column\n",
    "for i, tweet in enumerate(df['Tweet']):\n",
    "    body = [{'text': tweet}]\n",
    "    request = requests.post(constructed_url, params=params, headers=headers, json=body)\n",
    "    response = request.json()\n",
    "    translated_text = response[0]['translations'][0]['text']\n",
    "    df.at[i, 'Tweet'] = translated_text"
   ]
  },
  {
   "cell_type": "code",
   "execution_count": 12,
   "metadata": {},
   "outputs": [
    {
     "name": "stdout",
     "output_type": "stream",
     "text": [
      "       Unnamed: 0            User               Date Created  Number of Likes  \\\n",
      "0               0     ResultsVary  2023-03-10 23:59:59+00:00                0   \n",
      "1               1    mikobi_oscar  2023-03-10 23:59:57+00:00                0   \n",
      "2               2   BarandaMuller  2023-03-10 23:59:56+00:00                0   \n",
      "3               3       OscarRiba  2023-03-10 23:59:56+00:00                0   \n",
      "4               4  OscarR79483417  2023-03-10 23:59:56+00:00                1   \n",
      "...           ...             ...                        ...              ...   \n",
      "49996       49996     oscar234040  2023-03-10 13:32:04+00:00               30   \n",
      "49997       49997    AndyxOrbitch  2023-03-10 13:32:03+00:00                0   \n",
      "49998       49998        UnNouMon  2023-03-10 13:32:01+00:00                1   \n",
      "49999       49999          ernamh  2023-03-10 13:32:01+00:00               34   \n",
      "50000       50000  OscarCarrero00  2023-03-10 13:32:00+00:00                0   \n",
      "\n",
      "           Source of Tweet                                              Tweet  \n",
      "0       Twitter for iPhone  Finally going to watch EEAAO tonight, gotta ge...  \n",
      "1      Twitter for Android  @PrimatureRDC What are they waiting for to do it?  \n",
      "2      Twitter for Android  Hello @aquino_euge you help me with RT TO THIS...  \n",
      "3      Twitter for Android  @hudson77449685 @ManOnAHog Does the grammar te...  \n",
      "4          Twitter Web App                            @iamjessicalove0 ♥️♥️♥️  \n",
      "...                    ...                                                ...  \n",
      "49996  Twitter for Android                            Creo que está lloviendo  \n",
      "49997  Twitter for Android                Winona de mãe e Oscar de pai \\nBORA  \n",
      "49998  Twitter for Android  @prsnlluk @CharcoUno Amb la seva proposta et p...  \n",
      "49999      Twitter Web App  Not really expecting Michelle Yeoh to win at t...  \n",
      "50000  Twitter for Android  @AdrianaLucia Gracias activista prepagada, que...  \n",
      "\n",
      "[50001 rows x 6 columns]\n"
     ]
    }
   ],
   "source": [
    "print(df)"
   ]
  },
  {
   "cell_type": "code",
   "execution_count": 13,
   "metadata": {},
   "outputs": [],
   "source": [
    "df.to_csv('translated_data.csv', index=False)"
   ]
  }
 ],
 "metadata": {
  "kernelspec": {
   "display_name": "Python 3",
   "language": "python",
   "name": "python3"
  },
  "language_info": {
   "codemirror_mode": {
    "name": "ipython",
    "version": 3
   },
   "file_extension": ".py",
   "mimetype": "text/x-python",
   "name": "python",
   "nbconvert_exporter": "python",
   "pygments_lexer": "ipython3",
   "version": "3.11.2"
  },
  "orig_nbformat": 4
 },
 "nbformat": 4,
 "nbformat_minor": 2
}
