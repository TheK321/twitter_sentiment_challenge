{
 "cells": [
  {
   "cell_type": "code",
   "execution_count": 2,
   "metadata": {},
   "outputs": [],
   "source": [
    "import pandas as pd\n",
    "from googletrans import Translator\n",
    "\n",
    "# cargar el archivo con el dataframe y seleccionar la columna de tweets\n",
    "df = pd.read_csv('tweetsday3.csv')\n",
    "tweets = df['Tweet']\n",
    "\n",
    "# crear una instancia del traductor y definir idiomas origen y destino\n",
    "translator = Translator(service_urls=['translate.google.com'])\n",
    "dest_lang = 'en'\n",
    "\n",
    "# función para traducir un tweet\n",
    "def translate_tweet(tweet):\n",
    "    try:\n",
    "        return translator.translate(tweet, dest=dest_lang).text\n",
    "    except:\n",
    "        return Exception\n",
    "\n",
    "# aplicar la función a cada tweet en la columna y reemplazar el texto original\n",
    "df['Tweet'] = tweets.apply(translate_tweet)\n",
    "\n",
    "# guardar el dataframe con los tweets traducidos en inglés en un nuevo archivo\n",
    "df.to_csv('transday3.csv', index=False)"
   ]
  },
  {
   "cell_type": "code",
   "execution_count": 3,
   "metadata": {},
   "outputs": [
    {
     "name": "stdout",
     "output_type": "stream",
     "text": [
      "       Unnamed: 0             User               Date Created  \\\n",
      "0               0          Raviotx  2023-03-12 23:59:59+00:00   \n",
      "1               1     BercaMariana  2023-03-12 23:59:59+00:00   \n",
      "2               2   Kennethaylett3  2023-03-12 23:59:59+00:00   \n",
      "3               3        welvtimmy  2023-03-12 23:59:59+00:00   \n",
      "4               4      ALakerfan78  2023-03-12 23:59:59+00:00   \n",
      "...           ...              ...                        ...   \n",
      "49996       49996  AsMidiasQuentes  2023-03-12 23:23:23+00:00   \n",
      "49997       49997   ElielsonJnior1  2023-03-12 23:23:22+00:00   \n",
      "49998       49998         itsgreyg  2023-03-12 23:23:22+00:00   \n",
      "49999       49999          drun007  2023-03-12 23:23:22+00:00   \n",
      "50000       50000         Ceci_BB_  2023-03-12 23:23:22+00:00   \n",
      "\n",
      "       Number of Likes      Source of Tweet  \\\n",
      "0                    0  Twitter for Android   \n",
      "1                    0  Twitter for Android   \n",
      "2                    0  Twitter for Android   \n",
      "3                    0   Twitter for iPhone   \n",
      "4                    3  Twitter for Android   \n",
      "...                ...                  ...   \n",
      "49996                1  Twitter for Android   \n",
      "49997                2   Twitter for iPhone   \n",
      "49998                8   Twitter for iPhone   \n",
      "49999                2   Twitter for iPhone   \n",
      "50000                0   Twitter for iPhone   \n",
      "\n",
      "                                                   Tweet  \n",
      "0                What do you think of this look? #Oscars  \n",
      "1      Watching the Oscar without watching a single m...  \n",
      "2                     Night of Chill watching the Oscars  \n",
      "3                                   Justin in the Oscars  \n",
      "4      I'd rather watch this Oscar than the lame awar...  \n",
      "...                                                  ...  \n",
      "49996  Angela Bassett will already be the first award...  \n",
      "49997                    tachycardia with this Oscar saw  \n",
      "49998  fav looks so far. #Oscars https://t.co/dwUJh8C06n  \n",
      "49999  All set for #AfsheensOscars. My annual date wi...  \n",
      "50000  Attentive !!Lady Gaga, Lenny Kravitz and Rihan...  \n",
      "\n",
      "[50001 rows x 6 columns]\n"
     ]
    }
   ],
   "source": [
    "print(df)"
   ]
  }
 ],
 "metadata": {
  "kernelspec": {
   "display_name": "Python 3",
   "language": "python",
   "name": "python3"
  },
  "language_info": {
   "codemirror_mode": {
    "name": "ipython",
    "version": 3
   },
   "file_extension": ".py",
   "mimetype": "text/x-python",
   "name": "python",
   "nbconvert_exporter": "python",
   "pygments_lexer": "ipython3",
   "version": "3.11.2"
  },
  "orig_nbformat": 4
 },
 "nbformat": 4,
 "nbformat_minor": 2
}
