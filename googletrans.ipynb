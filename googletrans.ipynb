{
 "cells": [
  {
   "cell_type": "code",
   "execution_count": 10,
   "metadata": {},
   "outputs": [],
   "source": [
    "import pandas as pd\n",
    "from googletrans import Translator\n",
    "\n",
    "# cargar el archivo con el dataframe y seleccionar la columna de tweets\n",
    "df = pd.read_csv('tweetsday1.csv')\n",
    "tweets = df['Tweet']\n",
    "\n",
    "# crear una instancia del traductor y definir idiomas origen y destino\n",
    "translator = Translator(service_urls=['translate.google.com'])\n",
    "dest_lang = 'en'\n",
    "\n",
    "# función para traducir un tweet\n",
    "def translate_tweet(tweet):\n",
    "    try:\n",
    "        return translator.translate(tweet, dest=dest_lang).text\n",
    "    except:\n",
    "        return tweet\n",
    "\n",
    "# aplicar la función a cada tweet en la columna y reemplazar el texto original\n",
    "df['Tweet'] = tweets.apply(translate_tweet)\n",
    "\n",
    "# guardar el dataframe con los tweets traducidos en inglés en un nuevo archivo\n",
    "df.to_csv('archivo_traducido.csv', index=False)\n"
   ]
  },
  {
   "cell_type": "code",
   "execution_count": 11,
   "metadata": {},
   "outputs": [
    {
     "name": "stdout",
     "output_type": "stream",
     "text": [
      "       Unnamed: 0            User               Date Created  Number of Likes  \\\n",
      "0               0     ResultsVary  2023-03-10 23:59:59+00:00                0   \n",
      "1               1    mikobi_oscar  2023-03-10 23:59:57+00:00                0   \n",
      "2               2   BarandaMuller  2023-03-10 23:59:56+00:00                0   \n",
      "3               3       OscarRiba  2023-03-10 23:59:56+00:00                0   \n",
      "4               4  OscarR79483417  2023-03-10 23:59:56+00:00                1   \n",
      "...           ...             ...                        ...              ...   \n",
      "49996       49996     oscar234040  2023-03-10 13:32:04+00:00               30   \n",
      "49997       49997    AndyxOrbitch  2023-03-10 13:32:03+00:00                0   \n",
      "49998       49998        UnNouMon  2023-03-10 13:32:01+00:00                1   \n",
      "49999       49999          ernamh  2023-03-10 13:32:01+00:00               34   \n",
      "50000       50000  OscarCarrero00  2023-03-10 13:32:00+00:00                0   \n",
      "\n",
      "           Source of Tweet                                              Tweet  \n",
      "0       Twitter for iPhone  Finally going to watch EEAAO tonight, gotta ge...  \n",
      "1      Twitter for Android    @PrimatureRDC Ils attendent quoi pour le faire?  \n",
      "2      Twitter for Android  Hola @aquino_euge me ayudas con RT A ESTE HILO...  \n",
      "3      Twitter for Android  @hudson77449685 @ManOnAHog Does the grammar te...  \n",
      "4          Twitter Web App                            @iamjessicalove0 ♥️♥️♥️  \n",
      "...                    ...                                                ...  \n",
      "49996  Twitter for Android                            Creo que está lloviendo  \n",
      "49997  Twitter for Android                Winona de mãe e Oscar de pai \\nBORA  \n",
      "49998  Twitter for Android  @prsnlluk @CharcoUno Amb la seva proposta et p...  \n",
      "49999      Twitter Web App  Not really expecting Michelle Yeoh to win at t...  \n",
      "50000  Twitter for Android  @AdrianaLucia Gracias activista prepagada, que...  \n",
      "\n",
      "[50001 rows x 6 columns]\n"
     ]
    }
   ],
   "source": [
    "print(df)"
   ]
  }
 ],
 "metadata": {
  "kernelspec": {
   "display_name": "Python 3",
   "language": "python",
   "name": "python3"
  },
  "language_info": {
   "codemirror_mode": {
    "name": "ipython",
    "version": 3
   },
   "file_extension": ".py",
   "mimetype": "text/x-python",
   "name": "python",
   "nbconvert_exporter": "python",
   "pygments_lexer": "ipython3",
   "version": "3.11.2"
  },
  "orig_nbformat": 4
 },
 "nbformat": 4,
 "nbformat_minor": 2
}
